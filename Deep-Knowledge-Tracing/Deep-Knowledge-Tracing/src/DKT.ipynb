{
 "cells": [
  {
   "cell_type": "markdown",
   "metadata": {},
   "source": [
    "# Udacity - Machine Learning Engineer Nanodegree\n",
    "## Capstone Project\n",
    "### Title: Development of a LSTM Network to Predict Students’ Answers on Exam Questions"
   ]
  },
  {
   "cell_type": "markdown",
   "metadata": {},
   "source": [
    "### Implementation of DKT:\n",
    "#### Part 1: Define constants"
   ]
  },
  {
   "cell_type": "code",
   "execution_count": 1,
   "metadata": {},
   "outputs": [],
   "source": [
    "dataset = \"data/ASSISTments_skill_builder_data.csv\" # Dataset path\n",
    "best_model_file = \"saved_models/ASSISTments.best.model.weights.hdf5\" # File to save the model.\n",
    "train_log = \"logs/dktmodel.train.log\" # File to save the training log.\n",
    "eval_log = \"logs/dktmodel.eval.log\" # File to save the testing log.\n",
    "optimizer = \"adagrad\" # Optimizer to use\n",
    "lstm_units = 250 # Number of LSTM units\n",
    "batch_size = 20 # Batch size\n",
    "epochs = 10 # Number of epochs to train\n",
    "dropout_rate = 0.6 # Dropout rate\n",
    "verbose = 1 # Verbose = {0,1,2}\n",
    "testing_rate = 0.2 # Portion of data to be used for testing\n",
    "validation_rate = 0.2 # Portion of training data to be used for validation"
   ]
  },
  {
   "cell_type": "markdown",
   "metadata": {},
   "source": [
    "#### Part 2: Pre-processing"
   ]
  },
  {
   "cell_type": "code",
   "execution_count": 2,
   "metadata": {},
   "outputs": [
    {
     "name": "stdout",
     "output_type": "stream",
     "text": [
      "======== Data Summary ========\n",
      "Data size: 4163\n",
      "Training data size: 2665\n",
      "Validation data size: 666\n",
      "Testing data size: 832\n",
      "Number of skills: 123\n",
      "==============================\n"
     ]
    }
   ],
   "source": [
    "from Utils import *\n",
    "\n",
    "dataset, num_skills = read_file(dataset)\n",
    "X_train, X_val, X_test, y_train, y_val, y_test = split_dataset(dataset, validation_rate, testing_rate)\n",
    "\n",
    "print(\"======== Data Summary ========\")\n",
    "print(\"Data size: %d\" % len(dataset))\n",
    "print(\"Training data size: %d\" % len(X_train))\n",
    "print(\"Validation data size: %d\" % len(X_val))\n",
    "print(\"Testing data size: %d\" % len(X_test))\n",
    "print(\"Number of skills: %d\" % num_skills)\n",
    "print(\"==============================\")"
   ]
  },
  {
   "cell_type": "markdown",
   "metadata": {},
   "source": [
    "#### Part 3: Building the model"
   ]
  },
  {
   "cell_type": "code",
   "execution_count": 3,
   "metadata": {},
   "outputs": [
    {
     "name": "stderr",
     "output_type": "stream",
     "text": [
      "/home/d2/anaconda3/lib/python3.6/site-packages/h5py/__init__.py:36: FutureWarning: Conversion of the second argument of issubdtype from `float` to `np.floating` is deprecated. In future, it will be treated as `np.float64 == np.dtype(float).type`.\n",
      "  from ._conv import register_converters as _register_converters\n",
      "Using TensorFlow backend.\n"
     ]
    }
   ],
   "source": [
    "from StudentModel import DKTModel, DataGenerator\n",
    "\n",
    "# Create generators for training/testing/validation\n",
    "# Remove the slice ([0:10]) to train with the whole dataset\n",
    "train_gen = DataGenerator(X_train[0:10], y_train[0:10], num_skills, batch_size)\n",
    "val_gen = DataGenerator(X_val[0:10], y_val[0:10], num_skills, batch_size)\n",
    "test_gen = DataGenerator(X_test[0:10], y_test[0:10], num_skills, batch_size)\n",
    "\n",
    "# Create model\n",
    "student_model = DKTModel(num_skills=train_gen.num_skills,\n",
    "                      num_features=train_gen.feature_dim,\n",
    "                      optimizer=optimizer,\n",
    "                      hidden_units=lstm_units,\n",
    "                      batch_size=batch_size,\n",
    "                      dropout_rate=dropout_rate)"
   ]
  },
  {
   "cell_type": "markdown",
   "metadata": {
    "collapsed": true
   },
   "source": [
    "#### Part 4: Train the Model"
   ]
  },
  {
   "cell_type": "code",
   "execution_count": 4,
   "metadata": {},
   "outputs": [
    {
     "name": "stdout",
     "output_type": "stream",
     "text": [
      "==== Training Started ====\n",
      "Epoch 1/10\n",
      "1/1 [==============================] - 7s 7s/step - loss: 0.6934 - val_loss: 0.6733\n",
      "\n",
      "Epoch 00001: val_loss improved from inf to 0.67332, saving model to saved_models/ASSISTments.best.model.weights.hdf5\n",
      "Epoch 2/10\n",
      "1/1 [==============================] - 6s 6s/step - loss: 0.6172 - val_loss: 0.8462 - val_auc: 0.4906 - val_acc: 0.6176 - val_pre: 0.6221\n",
      "\n",
      "Epoch 00002: val_loss did not improve from 0.67332\n",
      "Epoch 3/10\n",
      "1/1 [==============================] - 3s 3s/step - loss: 0.7396 - val_loss: 0.6766 - val_auc: 0.4374 - val_acc: 0.5435 - val_pre: 0.6015\n",
      "\n",
      "Epoch 00003: val_loss did not improve from 0.67332\n",
      "Epoch 4/10\n",
      "1/1 [==============================] - 4s 4s/step - loss: 0.5638 - val_loss: 0.7032 - val_auc: 0.5558 - val_acc: 0.6038 - val_pre: 0.6171\n",
      "\n",
      "Epoch 00004: val_loss did not improve from 0.67332\n",
      "Epoch 5/10\n",
      "1/1 [==============================] - 4s 4s/step - loss: 0.5792 - val_loss: 0.8531 - val_auc: 0.4701 - val_acc: 0.5650 - val_pre: 0.6119\n",
      "\n",
      "Epoch 00005: val_loss did not improve from 0.67332\n",
      "Epoch 6/10\n",
      "1/1 [==============================] - 4s 4s/step - loss: 0.6074 - val_loss: 0.7347 - val_auc: 0.4577 - val_acc: 0.5797 - val_pre: 0.6198\n",
      "\n",
      "Epoch 00006: val_loss did not improve from 0.67332\n",
      "Epoch 7/10\n",
      "1/1 [==============================] - 3s 3s/step - loss: 0.5540 - val_loss: 0.6973 - val_auc: 0.4520 - val_acc: 0.5762 - val_pre: 0.6082\n",
      "\n",
      "Epoch 00007: val_loss did not improve from 0.67332\n",
      "Epoch 8/10\n",
      "1/1 [==============================] - 4s 4s/step - loss: 0.5155 - val_loss: 0.9058 - val_auc: 0.4598 - val_acc: 0.6141 - val_pre: 0.6183\n",
      "\n",
      "Epoch 00008: val_loss did not improve from 0.67332\n",
      "Epoch 9/10\n",
      "1/1 [==============================] - 3s 3s/step - loss: 0.5208 - val_loss: 0.7571 - val_auc: 0.4236 - val_acc: 0.6176 - val_pre: 0.6211\n",
      "\n",
      "Epoch 00009: val_loss did not improve from 0.67332\n",
      "Epoch 10/10\n",
      "1/1 [==============================] - 4s 4s/step - loss: 0.4874 - val_loss: 0.8368 - val_auc: 0.4705 - val_acc: 0.6176 - val_pre: 0.6198\n",
      "\n",
      "Epoch 00010: val_loss did not improve from 0.67332\n",
      "==== Training Done ====\n"
     ]
    }
   ],
   "source": [
    "history = student_model.fit(train_gen,\n",
    "                  epochs=epochs,\n",
    "                  val_gen=val_gen,\n",
    "                  verbose=verbose,\n",
    "                  filepath_bestmodel=best_model_file,\n",
    "                  filepath_log=train_log)"
   ]
  },
  {
   "cell_type": "markdown",
   "metadata": {},
   "source": [
    "#### Part 5: Load the Model with the Best Validation Loss"
   ]
  },
  {
   "cell_type": "code",
   "execution_count": 5,
   "metadata": {},
   "outputs": [],
   "source": [
    "student_model.load_weights(best_model_file)"
   ]
  },
  {
   "cell_type": "markdown",
   "metadata": {},
   "source": [
    "#### Part 6: Test the Model"
   ]
  },
  {
   "cell_type": "code",
   "execution_count": 6,
   "metadata": {},
   "outputs": [
    {
     "name": "stdout",
     "output_type": "stream",
     "text": [
      "==== Evaluation Started ====\n",
      "1/1 [==============================] - 7s 7s/step - auc: 0.5795 - acc: 0.4913 - pre: 0.4826\n",
      "==== Evaluation Done ====\n"
     ]
    }
   ],
   "source": [
    "result = student_model.evaluate(test_gen, metrics=['auc','acc','pre'], verbose=verbose, filepath_log=eval_log)"
   ]
  }
 ],
 "metadata": {
  "kernelspec": {
   "display_name": "Python 3",
   "language": "python",
   "name": "python3"
  },
  "language_info": {
   "codemirror_mode": {
    "name": "ipython",
    "version": 3
   },
   "file_extension": ".py",
   "mimetype": "text/x-python",
   "name": "python",
   "nbconvert_exporter": "python",
   "pygments_lexer": "ipython3",
   "version": "3.6.5"
  }
 },
 "nbformat": 4,
 "nbformat_minor": 2
}
